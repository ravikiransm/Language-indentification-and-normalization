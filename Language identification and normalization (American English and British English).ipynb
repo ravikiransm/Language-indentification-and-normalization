{
 "cells": [
  {
   "cell_type": "code",
   "execution_count": 1,
   "metadata": {},
   "outputs": [],
   "source": [
    "import docx\n",
    "import sys\n",
    "import pandas as pd\n",
    "import re\n",
    "\n"
   ]
  },
  {
   "cell_type": "markdown",
   "metadata": {},
   "source": [
    "#Reading .docx files"
   ]
  },
  {
   "cell_type": "code",
   "execution_count": null,
   "metadata": {},
   "outputs": [],
   "source": [
    "def readtxt(filename):\n",
    "    doc = docx.Document(filename)\n",
    "    fullText = []\n",
    "    for para in doc.paragraphs:\n",
    "        fullText.append(para.text)\n",
    "    return '\\n'.join(fullText)\n",
    "\n",
    "doc=readtxt('DDD.docx')"
   ]
  },
  {
   "cell_type": "markdown",
   "metadata": {},
   "source": [
    "#Reading the wordlist(American and British)"
   ]
  },
  {
   "cell_type": "code",
   "execution_count": 2,
   "metadata": {},
   "outputs": [],
   "source": [
    "fi = open('wordlist','r')\n",
    "words = []\n",
    "for line in fi:\n",
    "\twords.append(line.strip())\n",
    "\n",
    "american = words[int(len(words)/2):]\n",
    "brit = words[:int(len(words)/2)]\n",
    "tdict={}\n",
    "for i in range(len(american)):\n",
    "    tdict[brit[i]] = american[i]"
   ]
  },
  {
   "cell_type": "code",
   "execution_count": 3,
   "metadata": {},
   "outputs": [],
   "source": [
    "def lang_normal(doc):\n",
    "    count_american=0\n",
    "    count_british=0\n",
    "    for w in doc.split():\n",
    "        if w in american:\n",
    "            count_american=count_american+1\n",
    "        elif w in brit:\n",
    "            count_british=count_british+1\n",
    "    print('Count_american' ,count_american)\n",
    "    print('Count_british' ,count_british)\n",
    "    if count_american > count_british: #if it has more american words, normalize to american\n",
    "        for i, j in tdict.items():\n",
    "            doc = re.sub(r\"\\b%s\\b\" % i, j, doc)\n",
    "    elif count_british > count_american:#if it has more british words, normalize to british\n",
    "        for i, j in tdict.items():\n",
    "            doc = re.sub(r\"\\b%s\\b\" % j, i, doc)\n",
    "    else :\n",
    "        print(\"equal\")\n",
    "    return(doc)    "
   ]
  },
  {
   "cell_type": "code",
   "execution_count": 10,
   "metadata": {},
   "outputs": [
    {
     "name": "stdout",
     "output_type": "stream",
     "text": [
      "Count_american 2\n",
      "Count_british 1\n"
     ]
    },
    {
     "data": {
      "text/plain": [
       "'color accessorize eon'"
      ]
     },
     "execution_count": 10,
     "metadata": {},
     "output_type": "execute_result"
    }
   ],
   "source": [
    "#EXAMPLE\n",
    "doc=\"colour accessorize eon\"\n",
    "lang_normal(doc)"
   ]
  },
  {
   "cell_type": "code",
   "execution_count": 11,
   "metadata": {},
   "outputs": [
    {
     "name": "stdout",
     "output_type": "stream",
     "text": [
      "Count_american 1\n",
      "Count_british 2\n"
     ]
    },
    {
     "data": {
      "text/plain": [
       "'colour accessorise aeon'"
      ]
     },
     "execution_count": 11,
     "metadata": {},
     "output_type": "execute_result"
    }
   ],
   "source": [
    "doc='colour accessorise eon'\n",
    "lang_normal(doc)"
   ]
  }
 ],
 "metadata": {
  "kernelspec": {
   "display_name": "Python 3",
   "language": "python",
   "name": "python3"
  },
  "language_info": {
   "codemirror_mode": {
    "name": "ipython",
    "version": 3
   },
   "file_extension": ".py",
   "mimetype": "text/x-python",
   "name": "python",
   "nbconvert_exporter": "python",
   "pygments_lexer": "ipython3",
   "version": "3.6.5"
  }
 },
 "nbformat": 4,
 "nbformat_minor": 2
}
